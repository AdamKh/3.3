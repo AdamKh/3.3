{
 "cells": [
  {
   "cell_type": "code",
   "execution_count": 1,
   "metadata": {
    "collapsed": false,
    "pycharm": {
     "name": "#%%\n"
    }
   },
   "outputs": [],
   "source": [
    "import numpy as np"
   ]
  },
  {
   "cell_type": "markdown",
   "metadata": {
    "collapsed": false,
    "pycharm": {
     "name": "#%% md\n"
    }
   },
   "source": [
    "## Транспонирование матрицы"
   ]
  },
  {
   "cell_type": "markdown",
   "metadata": {
    "collapsed": false,
    "pycharm": {
     "name": "#%% md\n"
    }
   },
   "source": [
    "Свойство 1. Дважды транспонированная матрица равна исходной матрице."
   ]
  },
  {
   "cell_type": "code",
   "execution_count": 2,
   "metadata": {
    "collapsed": false,
    "pycharm": {
     "name": "#%%\n"
    }
   },
   "outputs": [
    {
     "name": "stdout",
     "output_type": "stream",
     "text": [
      "[[3 6 5]\n",
      " [9 8 1]]\n"
     ]
    }
   ],
   "source": [
    "A = np.matrix('3 6 5; 9 8 1')\n",
    "t_matrix = (A.T).T\n",
    "print(t_matrix)"
   ]
  },
  {
   "cell_type": "markdown",
   "metadata": {
    "collapsed": false,
    "pycharm": {
     "name": "#%% md\n"
    }
   },
   "source": [
    "Свойство 2. Транспонирование суммы матриц равно сумме транспонированных матриц"
   ]
  },
  {
   "cell_type": "code",
   "execution_count": 3,
   "metadata": {
    "collapsed": false,
    "pycharm": {
     "name": "#%%\n"
    }
   },
   "outputs": [
    {
     "name": "stdout",
     "output_type": "stream",
     "text": [
      "[[ 6 12]\n",
      " [ 6 17]\n",
      " [11  1]]\n",
      "[[ 6 12]\n",
      " [ 6 17]\n",
      " [11  1]]\n"
     ]
    }
   ],
   "source": [
    "A = np.matrix('2 3 6; 3 9 1')\n",
    "B = np.matrix('4 3 5; 9 8 0')\n",
    "first = (A + B).T\n",
    "second = A.T + B.T\n",
    "print(first)\n",
    "print(second)"
   ]
  },
  {
   "cell_type": "markdown",
   "metadata": {
    "collapsed": false,
    "pycharm": {
     "name": "#%% md\n"
    }
   },
   "source": [
    "Свойство 3. Транспонирование произведения матриц равно произведению транспонированных матриц расставленных в обратном порядке:"
   ]
  },
  {
   "cell_type": "code",
   "execution_count": 4,
   "metadata": {
    "collapsed": false,
    "pycharm": {
     "name": "#%%\n"
    }
   },
   "outputs": [
    {
     "name": "stdout",
     "output_type": "stream",
     "text": [
      "[[76 44]\n",
      " [96 54]]\n",
      "[[76 44]\n",
      " [96 54]]\n"
     ]
    }
   ],
   "source": [
    "A = np.matrix('5 6 8; 1 2 6')\n",
    "B = np.matrix('2 2; 3 5; 6 7')\n",
    "first = (A.dot(B)).T\n",
    "second = (B.T).dot(A.T)\n",
    "print(first)\n",
    "print(second)"
   ]
  },
  {
   "cell_type": "markdown",
   "metadata": {
    "collapsed": false,
    "pycharm": {
     "name": "#%% md\n"
    }
   },
   "source": [
    "Свойство 4. Транспонирование произведения матрицы на число равно произведению этого числа на транспонированную матрицу:"
   ]
  },
  {
   "cell_type": "code",
   "execution_count": 5,
   "metadata": {
    "collapsed": false,
    "pycharm": {
     "name": "#%%\n"
    }
   },
   "outputs": [
    {
     "name": "stdout",
     "output_type": "stream",
     "text": [
      "[[25  5]\n",
      " [40 15]\n",
      " [45 40]]\n",
      "[[25  5]\n",
      " [40 15]\n",
      " [45 40]]\n"
     ]
    }
   ],
   "source": [
    "A = np.matrix('5 8 9; 1 3 8')\n",
    "k = 5\n",
    "first = k * (A.T)\n",
    "second = (k * A).T\n",
    "print(first)\n",
    "print(second)"
   ]
  },
  {
   "cell_type": "markdown",
   "metadata": {
    "collapsed": false,
    "pycharm": {
     "name": "#%% md\n"
    }
   },
   "source": [
    "*Свойство 5*. Определители исходной и транспонированной матрицы совпадают:"
   ]
  },
  {
   "cell_type": "code",
   "execution_count": 6,
   "metadata": {
    "collapsed": false,
    "pycharm": {
     "name": "#%%\n"
    }
   },
   "outputs": [
    {
     "name": "stdout",
     "output_type": "stream",
     "text": [
      "5\n",
      "5\n"
     ]
    }
   ],
   "source": [
    "A = np.matrix('2 4 3; 5 4 5; 5 5 5')\n",
    "A_det = np.linalg.det(A)\n",
    "A_T_det = np.linalg.det(A.T)\n",
    "print(format(A_det, '.9g'))\n",
    "print(format(A_T_det, '.9g'))"
   ]
  },
  {
   "cell_type": "markdown",
   "metadata": {
    "collapsed": false,
    "pycharm": {
     "name": "#%% md\n"
    }
   },
   "source": [
    "# Умножение матрицы на число"
   ]
  },
  {
   "cell_type": "markdown",
   "metadata": {
    "collapsed": false,
    "pycharm": {
     "name": "#%% md\n"
    }
   },
   "source": [
    "Свойство 1. Произведение единицы и любой заданной матрицы равно заданной матрице:"
   ]
  },
  {
   "cell_type": "code",
   "execution_count": 7,
   "metadata": {
    "collapsed": false,
    "pycharm": {
     "name": "#%%\n"
    }
   },
   "outputs": [
    {
     "name": "stdout",
     "output_type": "stream",
     "text": [
      "[[2 2]\n",
      " [7 8]]\n",
      "[[2 2]\n",
      " [7 8]]\n"
     ]
    }
   ],
   "source": [
    "A = np.matrix('2 2; 7 8')\n",
    "L = 1 * A\n",
    "R = A\n",
    "print(L)\n",
    "print(R)"
   ]
  },
  {
   "cell_type": "markdown",
   "metadata": {
    "collapsed": false,
    "pycharm": {
     "name": "#%% md\n"
    }
   },
   "source": [
    "Свойство 2. Произведение нуля и любой матрицы равно нулевой матрице, размерность которой равна исходной матрицы:"
   ]
  },
  {
   "cell_type": "code",
   "execution_count": 8,
   "metadata": {
    "collapsed": false,
    "pycharm": {
     "name": "#%%\n"
    }
   },
   "outputs": [
    {
     "name": "stdout",
     "output_type": "stream",
     "text": [
      "[[0 0]\n",
      " [0 0]]\n",
      "[[0 0]\n",
      " [0 0]]\n"
     ]
    }
   ],
   "source": [
    "A = np.matrix('8 8; 5 9')\n",
    "Z = np.matrix('0 0; 0 0')\n",
    "L = 0 * A\n",
    "R = Z\n",
    "print(L)\n",
    "print(R)"
   ]
  },
  {
   "cell_type": "markdown",
   "metadata": {
    "collapsed": false,
    "pycharm": {
     "name": "#%% md\n"
    }
   },
   "source": [
    "Свойство 3. Произведение матрицы на сумму чисел равно сумме произведений матрицы на каждое из этих чисел:"
   ]
  },
  {
   "cell_type": "code",
   "execution_count": 9,
   "metadata": {
    "collapsed": false,
    "pycharm": {
     "name": "#%%\n"
    }
   },
   "outputs": [
    {
     "name": "stdout",
     "output_type": "stream",
     "text": [
      "[[45 45]\n",
      " [15 25]]\n",
      "[[45 45]\n",
      " [15 25]]\n"
     ]
    }
   ],
   "source": [
    "A = np.matrix('9 9; 3 5')\n",
    "p = 2\n",
    "q = 3\n",
    "L = (p + q) * A\n",
    "R = p * A + q * A\n",
    "print(L)\n",
    "print(R)"
   ]
  },
  {
   "cell_type": "markdown",
   "metadata": {
    "collapsed": false,
    "pycharm": {
     "name": "#%% md\n"
    }
   },
   "source": [
    "Свойство 4. Произведение матрицы на произведение двух чисел равно произведению второго числа и заданной матрицы, умноженному на первое число:"
   ]
  },
  {
   "cell_type": "code",
   "execution_count": 10,
   "metadata": {
    "collapsed": false,
    "pycharm": {
     "name": "#%%\n"
    }
   },
   "outputs": [
    {
     "name": "stdout",
     "output_type": "stream",
     "text": [
      "[[42 36]\n",
      " [30 24]]\n",
      "[[42 36]\n",
      " [30 24]]\n"
     ]
    }
   ],
   "source": [
    "A = np.matrix('7 6; 5 4')\n",
    "p = 2\n",
    "q = 3\n",
    "L = (p * q) * A\n",
    "R = p * (q * A)\n",
    "print(L)\n",
    "print(R)"
   ]
  },
  {
   "cell_type": "markdown",
   "metadata": {
    "collapsed": false,
    "pycharm": {
     "name": "#%% md\n"
    }
   },
   "source": [
    "Свойство 5. Произведение суммы матриц на число равно сумме произведений этих матриц на заданное число:"
   ]
  },
  {
   "cell_type": "code",
   "execution_count": 11,
   "metadata": {
    "collapsed": false,
    "pycharm": {
     "name": "#%%\n"
    }
   },
   "outputs": [
    {
     "name": "stdout",
     "output_type": "stream",
     "text": [
      "[[36 27]\n",
      " [18 24]]\n",
      "[[36 27]\n",
      " [18 24]]\n"
     ]
    }
   ],
   "source": [
    "A = np.matrix('3 6; 0 1')\n",
    "B = np.matrix('9 3; 6 7')\n",
    "k = 3\n",
    "L = k * (A + B)\n",
    "R = k * A + k * B\n",
    "print(L)\n",
    "print(R)"
   ]
  },
  {
   "cell_type": "markdown",
   "metadata": {
    "collapsed": false,
    "pycharm": {
     "name": "#%% md\n"
    }
   },
   "source": [
    "# Сложение матриц"
   ]
  },
  {
   "cell_type": "markdown",
   "metadata": {
    "collapsed": false,
    "pycharm": {
     "name": "#%% md\n"
    }
   },
   "source": [
    "Свойство 1. Коммутативность сложения. От перестановки матриц их сумма не изменяется:"
   ]
  },
  {
   "cell_type": "code",
   "execution_count": 12,
   "metadata": {
    "collapsed": false,
    "pycharm": {
     "name": "#%%\n"
    }
   },
   "outputs": [
    {
     "name": "stdout",
     "output_type": "stream",
     "text": [
      "[[ 9  9]\n",
      " [10 16]]\n",
      "[[ 9  9]\n",
      " [10 16]]\n"
     ]
    }
   ],
   "source": [
    "A = np.matrix('8 7; 8 7')\n",
    "B = np.matrix('1 2; 2 9')\n",
    "L = A + B\n",
    "R = B + A\n",
    "print(L)\n",
    "print(R)"
   ]
  },
  {
   "cell_type": "markdown",
   "metadata": {
    "collapsed": false,
    "pycharm": {
     "name": "#%% md\n"
    }
   },
   "source": [
    "Свойство 2. Ассоциативность сложения. Результат сложения трех и более матриц не зависит от порядка, в котором эта операция будет выполняться:"
   ]
  },
  {
   "cell_type": "code",
   "execution_count": 13,
   "metadata": {
    "collapsed": false,
    "pycharm": {
     "name": "#%%\n"
    }
   },
   "outputs": [
    {
     "name": "stdout",
     "output_type": "stream",
     "text": [
      "[[ 7 15]\n",
      " [19 15]]\n",
      "[[ 7 15]\n",
      " [19 15]]\n"
     ]
    }
   ],
   "source": [
    "A = np.matrix('1 2; 3 4')\n",
    "B = np.matrix('5 6; 7 8')\n",
    "C = np.matrix('1 7; 9 3')\n",
    "L = A + (B + C)\n",
    "R = (A + B) + C\n",
    "print(L)\n",
    "print(R)"
   ]
  },
  {
   "cell_type": "markdown",
   "metadata": {
    "collapsed": false,
    "pycharm": {
     "name": "#%% md\n"
    }
   },
   "source": [
    "Свойство 3. Для любой матрицы существует противоположная ей , такая, что их сумма является нулевой матрицей:"
   ]
  },
  {
   "cell_type": "code",
   "execution_count": 14,
   "metadata": {
    "collapsed": false,
    "pycharm": {
     "name": "#%%\n"
    }
   },
   "outputs": [
    {
     "name": "stdout",
     "output_type": "stream",
     "text": [
      "[[0 0]\n",
      " [0 0]]\n"
     ]
    }
   ],
   "source": [
    "A = np.matrix('1 2; 3 4')\n",
    "Z = np.matrix('0 0; 0 0')\n",
    "L = A + (-1)*A\n",
    "print(L)"
   ]
  },
  {
   "cell_type": "markdown",
   "metadata": {
    "collapsed": false,
    "pycharm": {
     "name": "#%% md\n"
    }
   },
   "source": [
    "# Умножение матриц"
   ]
  },
  {
   "cell_type": "markdown",
   "metadata": {
    "collapsed": false,
    "pycharm": {
     "name": "#%% md\n"
    }
   },
   "source": [
    "Свойство 1. Ассоциативность умножения. Результат умножения матриц не зависит от порядка, в котором будет выполняться эта операция:"
   ]
  },
  {
   "cell_type": "code",
   "execution_count": 15,
   "metadata": {
    "collapsed": false,
    "pycharm": {
     "name": "#%%\n"
    }
   },
   "outputs": [
    {
     "name": "stdout",
     "output_type": "stream",
     "text": [
      "[[192 252]\n",
      " [436 572]]\n",
      "[[192 252]\n",
      " [436 572]]\n"
     ]
    }
   ],
   "source": [
    "A = np.matrix('1 2; 3 4')\n",
    "B = np.matrix('5 6; 7 8')\n",
    "C = np.matrix('2 4; 7 8')\n",
    "L = A.dot(B.dot(C))\n",
    "R = (A.dot(B)).dot(C)\n",
    "print(L)\n",
    "print(R)"
   ]
  },
  {
   "cell_type": "markdown",
   "metadata": {
    "collapsed": false,
    "pycharm": {
     "name": "#%% md\n"
    }
   },
   "source": [
    "Свойство 2. Дистрибутивность умножения. Произведение матрицы на сумму матриц равно сумме произведений матриц:"
   ]
  },
  {
   "cell_type": "code",
   "execution_count": 16,
   "metadata": {
    "collapsed": false,
    "pycharm": {
     "name": "#%%\n"
    }
   },
   "outputs": [
    {
     "name": "stdout",
     "output_type": "stream",
     "text": [
      "[[35 42]\n",
      " [77 94]]\n",
      "[[35 42]\n",
      " [77 94]]\n"
     ]
    }
   ],
   "source": [
    "A = np.matrix('1 2; 3 4')\n",
    "B = np.matrix('5 6; 7 8')\n",
    "C = np.matrix('2 4; 7 8')\n",
    "L = A.dot(B + C)\n",
    "R = A.dot(B) + A.dot(C)\n",
    "print(L)\n",
    "print(R)"
   ]
  },
  {
   "cell_type": "markdown",
   "metadata": {
    "collapsed": false,
    "pycharm": {
     "name": "#%% md\n"
    }
   },
   "source": [
    "Свойство 3. Умножение матриц в общем виде не коммутативно. Это означает, что для матриц не выполняется правило независимости произведения от перестановки множителей:"
   ]
  },
  {
   "cell_type": "code",
   "execution_count": 17,
   "metadata": {
    "collapsed": false,
    "pycharm": {
     "name": "#%%\n"
    }
   },
   "outputs": [
    {
     "name": "stdout",
     "output_type": "stream",
     "text": [
      "[[19 22]\n",
      " [43 50]]\n",
      "[[23 34]\n",
      " [31 46]]\n"
     ]
    }
   ],
   "source": [
    "A = np.matrix('1 2; 3 4')\n",
    "B = np.matrix('5 6; 7 8')\n",
    "L = A.dot(B)\n",
    "R = B.dot(A)\n",
    "print(L)\n",
    "print(R)"
   ]
  },
  {
   "cell_type": "markdown",
   "metadata": {
    "collapsed": false,
    "pycharm": {
     "name": "#%% md\n"
    }
   },
   "source": [
    "Свойство 4. Произведение заданной матрицы на единичную равно исходной матрице:"
   ]
  },
  {
   "cell_type": "code",
   "execution_count": 18,
   "metadata": {
    "collapsed": false,
    "pycharm": {
     "name": "#%%\n"
    }
   },
   "outputs": [
    {
     "name": "stdout",
     "output_type": "stream",
     "text": [
      "[[1 2]\n",
      " [3 4]]\n",
      "[[1 2]\n",
      " [3 4]]\n",
      "[[1 2]\n",
      " [3 4]]\n"
     ]
    }
   ],
   "source": [
    "A = np.matrix('1 2; 3 4')\n",
    "E = np.matrix('1 0; 0 1')\n",
    "L = E.dot(A)\n",
    "R = A.dot(E)\n",
    "print(L)\n",
    "print(R)\n",
    "print(A)"
   ]
  },
  {
   "cell_type": "markdown",
   "metadata": {
    "collapsed": false,
    "pycharm": {
     "name": "#%% md\n"
    }
   },
   "source": [
    "Свойство 5. Произведение заданной матрицы на нулевую матрицу равно нулевой матрице:"
   ]
  },
  {
   "cell_type": "code",
   "execution_count": 19,
   "metadata": {
    "collapsed": false,
    "pycharm": {
     "name": "#%%\n"
    }
   },
   "outputs": [
    {
     "name": "stdout",
     "output_type": "stream",
     "text": [
      "[[0 0]\n",
      " [0 0]]\n",
      "[[0 0]\n",
      " [0 0]]\n",
      "[[0 0]\n",
      " [0 0]]\n"
     ]
    }
   ],
   "source": [
    "A = np.matrix('1 2; 3 4')\n",
    "Z = np.matrix('0 0; 0 0')\n",
    "L = Z.dot(A)\n",
    "R = A.dot(Z)\n",
    "print(L)\n",
    "print(R)\n",
    "print(Z)"
   ]
  },
  {
   "cell_type": "markdown",
   "metadata": {
    "collapsed": false,
    "pycharm": {
     "name": "#%% md\n"
    }
   },
   "source": [
    "# Определитель матрицы"
   ]
  },
  {
   "cell_type": "markdown",
   "metadata": {
    "collapsed": false,
    "pycharm": {
     "name": "#%% md\n"
    }
   },
   "source": [
    "Свойство 1. Определитель матрицы остается неизменным при ее транспонировании:"
   ]
  },
  {
   "cell_type": "code",
   "execution_count": 20,
   "metadata": {
    "collapsed": false,
    "pycharm": {
     "name": "#%%\n"
    }
   },
   "outputs": [
    {
     "name": "stdout",
     "output_type": "stream",
     "text": [
      "[[-3 -2  0]\n",
      " [ 7  5 -2]\n",
      " [ 6  7  8]]\n",
      "[[-3  7  6]\n",
      " [-2  5  7]\n",
      " [ 0 -2  8]]\n",
      "-26.0\n",
      "-26.0\n"
     ]
    }
   ],
   "source": [
    "A = np.matrix('-3 -2 0; 7 5 -2; 6 7 8')\n",
    "print(A)\n",
    "print(A.T)\n",
    "det_A = round(np.linalg.det(A), 3)\n",
    "det_A_t = round(np.linalg.det(A.T), 3)\n",
    "print(det_A)\n",
    "print(det_A_t)"
   ]
  },
  {
   "cell_type": "markdown",
   "metadata": {
    "collapsed": false,
    "pycharm": {
     "name": "#%% md\n"
    }
   },
   "source": [
    "Свойство 2. Если у матрицы есть строка или столбец, состоящие из нулей, то определитель такой матрицы равен нулю:"
   ]
  },
  {
   "cell_type": "code",
   "execution_count": 21,
   "metadata": {
    "collapsed": false,
    "pycharm": {
     "name": "#%%\n"
    }
   },
   "outputs": [
    {
     "name": "stdout",
     "output_type": "stream",
     "text": [
      "[[-4 -1  2]\n",
      " [ 0  0  0]\n",
      " [ 8  3  1]]\n"
     ]
    },
    {
     "data": {
      "text/plain": [
       "0.0"
      ]
     },
     "execution_count": 21,
     "metadata": {},
     "output_type": "execute_result"
    }
   ],
   "source": [
    "A = np.matrix('-4 -1 2; 0 0 0; 8 3 1')\n",
    "print(A)\n",
    "np.linalg.det(A)"
   ]
  },
  {
   "cell_type": "markdown",
   "metadata": {
    "collapsed": false,
    "pycharm": {
     "name": "#%% md\n"
    }
   },
   "source": [
    "Свойство 3. При перестановке строк матрицы знак ее определителя меняется на противоположный:"
   ]
  },
  {
   "cell_type": "code",
   "execution_count": 22,
   "metadata": {
    "collapsed": false,
    "pycharm": {
     "name": "#%%\n"
    }
   },
   "outputs": [
    {
     "name": "stdout",
     "output_type": "stream",
     "text": [
      "[[-4 -1  2]\n",
      " [10  4 -1]\n",
      " [ 8  3  1]]\n",
      "[[10  4 -1]\n",
      " [-4 -1  2]\n",
      " [ 8  3  1]]\n"
     ]
    },
    {
     "data": {
      "text/plain": [
       "14.0"
      ]
     },
     "execution_count": 22,
     "metadata": {},
     "output_type": "execute_result"
    }
   ],
   "source": [
    "A = np.matrix('-4 -1 2; 10 4 -1; 8 3 1')\n",
    "print(A)\n",
    "B = np.matrix('10 4 -1; -4 -1 2; 8 3 1')\n",
    "print(B)\n",
    "round(np.linalg.det(A), 3)\n",
    "round(np.linalg.det(B), 3)"
   ]
  },
  {
   "cell_type": "markdown",
   "metadata": {
    "collapsed": false,
    "pycharm": {
     "name": "#%% md\n"
    }
   },
   "source": [
    "Свойство 4. Если у матрицы есть две одинаковые строки, то ее определитель равен нулю:"
   ]
  },
  {
   "cell_type": "code",
   "execution_count": 23,
   "metadata": {
    "collapsed": false,
    "pycharm": {
     "name": "#%%\n"
    }
   },
   "outputs": [
    {
     "name": "stdout",
     "output_type": "stream",
     "text": [
      "[[-4 -1  2]\n",
      " [-4 -1  2]\n",
      " [ 8  3  1]]\n"
     ]
    },
    {
     "data": {
      "text/plain": [
       "0.0"
      ]
     },
     "execution_count": 23,
     "metadata": {},
     "output_type": "execute_result"
    }
   ],
   "source": [
    "A = np.matrix('-4 -1 2; -4 -1 2; 8 3 1')\n",
    "print(A)\n",
    "np.linalg.det(A)"
   ]
  },
  {
   "cell_type": "markdown",
   "metadata": {
    "collapsed": false,
    "pycharm": {
     "name": "#%% md\n"
    }
   },
   "source": [
    "Свойство 5. Если все элементы строки или столбца матрицы умножить на какое-то число, то и определитель будет умножен на это число:"
   ]
  },
  {
   "cell_type": "code",
   "execution_count": 24,
   "metadata": {
    "collapsed": false,
    "pycharm": {
     "name": "#%%\n"
    }
   },
   "outputs": [
    {
     "name": "stdout",
     "output_type": "stream",
     "text": [
      "[[-7 -9  1]\n",
      " [ 1  2 -5]\n",
      " [ 6  3  7]]\n",
      "[[-7 -9  1]\n",
      " [ 1  2 -5]\n",
      " [12  6 14]]\n"
     ]
    },
    {
     "data": {
      "text/plain": [
       "242.0"
      ]
     },
     "execution_count": 24,
     "metadata": {},
     "output_type": "execute_result"
    }
   ],
   "source": [
    "A = np.matrix('-7 -9 1; 1 2 -5; 6 3 7')\n",
    "print(A)\n",
    "k = 2\n",
    "B = A.copy()\n",
    "B[2, :] = k * B[2, :]\n",
    "print(B)\n",
    "det_A = round(np.linalg.det(A), 3)\n",
    "det_B = round(np.linalg.det(B), 3)\n",
    "det_A * k\n",
    "det_B"
   ]
  },
  {
   "cell_type": "markdown",
   "metadata": {
    "collapsed": false,
    "pycharm": {
     "name": "#%% md\n"
    }
   },
   "source": [
    "Свойство 6. Если все элементы строки или столбца можно представить как сумму двух слагаемых, то определитель такой матрицы равен сумме определителей двух соответствующих матриц:"
   ]
  },
  {
   "cell_type": "code",
   "execution_count": 25,
   "metadata": {
    "collapsed": false,
    "pycharm": {
     "name": "#%%\n"
    }
   },
   "outputs": [
    {
     "name": "stdout",
     "output_type": "stream",
     "text": [
      "[[-4 -1  2]\n",
      " [ 4  2  4]\n",
      " [ 8  3  1]]\n",
      "[[-4 -1  2]\n",
      " [-4 -1  2]\n",
      " [ 8  3  1]]\n",
      "[[-4 -1  2]\n",
      " [ 8  3  2]\n",
      " [ 8  3  1]]\n"
     ]
    },
    {
     "data": {
      "text/plain": [
       "4.0"
      ]
     },
     "execution_count": 25,
     "metadata": {},
     "output_type": "execute_result"
    }
   ],
   "source": [
    "A = np.matrix('-4 -1 2; -4 -1 2; 8 3 1')\n",
    "B = np.matrix('-4 -1 2; 8 3 2; 8 3 1')\n",
    "C = A.copy()\n",
    "C[1, :] += B[1, :]\n",
    "print(C)\n",
    "print(A)\n",
    "print(B)\n",
    "round(np.linalg.det(C), 3)\n",
    "round(np.linalg.det(A), 3) + round(np.linalg.det(B), 3)"
   ]
  },
  {
   "cell_type": "markdown",
   "metadata": {
    "collapsed": false,
    "pycharm": {
     "name": "#%% md\n"
    }
   },
   "source": [
    "Свойство 7. Если к элементам одной строки прибавить элементы другой строки, умноженные на одно и тоже число, то определитель матрицы не изменится:"
   ]
  },
  {
   "cell_type": "code",
   "execution_count": 26,
   "metadata": {
    "collapsed": false,
    "pycharm": {
     "name": "#%%\n"
    }
   },
   "outputs": [
    {
     "name": "stdout",
     "output_type": "stream",
     "text": [
      "[[-4 -1  2]\n",
      " [10  4 -1]\n",
      " [ 8  3  1]]\n",
      "[[-4 -1  2]\n",
      " [ 2  2  3]\n",
      " [ 8  3  1]]\n"
     ]
    },
    {
     "data": {
      "text/plain": [
       "-14.0"
      ]
     },
     "execution_count": 26,
     "metadata": {},
     "output_type": "execute_result"
    }
   ],
   "source": [
    "A = np.matrix('-4 -1 2; 10 4 -1; 8 3 1')\n",
    "k = 2\n",
    "B = A.copy()\n",
    "B[1, :] = B[1, :] + k * B[0, :]\n",
    "print(A)\n",
    "print(B)\n",
    "round(np.linalg.det(A), 3)\n",
    "round(np.linalg.det(B), 3)"
   ]
  },
  {
   "cell_type": "markdown",
   "metadata": {
    "collapsed": false,
    "pycharm": {
     "name": "#%% md\n"
    }
   },
   "source": [
    "Свойство 8. Если строка или столбец матрицы является линейной комбинацией других строк (столбцов), то определитель такой матрицы равен нулю:"
   ]
  },
  {
   "cell_type": "code",
   "execution_count": 27,
   "metadata": {
    "collapsed": false,
    "pycharm": {
     "name": "#%%\n"
    }
   },
   "outputs": [
    {
     "name": "stdout",
     "output_type": "stream",
     "text": [
      "[[-4 -1  2]\n",
      " [10  4 -1]\n",
      " [ 8  3  1]]\n"
     ]
    },
    {
     "data": {
      "text/plain": [
       "0.0"
      ]
     },
     "execution_count": 27,
     "metadata": {},
     "output_type": "execute_result"
    }
   ],
   "source": [
    "A = np.matrix('-4 -1 2; 10 4 -1; 8 3 1')\n",
    "print(A)\n",
    "k = 2\n",
    "A[1, :] = A[0, :] + k * A[2, :]\n",
    "round(np.linalg.det(A), 3)"
   ]
  },
  {
   "cell_type": "markdown",
   "metadata": {
    "collapsed": false,
    "pycharm": {
     "name": "#%% md\n"
    }
   },
   "source": [
    "Свойство 9. Если матрица содержит пропорциональные строки, то ее определитель равен нулю:"
   ]
  },
  {
   "cell_type": "code",
   "execution_count": 28,
   "metadata": {
    "collapsed": false,
    "pycharm": {
     "name": "#%%\n"
    }
   },
   "outputs": [
    {
     "name": "stdout",
     "output_type": "stream",
     "text": [
      "[[-4 -1  2]\n",
      " [10  4 -1]\n",
      " [ 8  3  1]]\n",
      "[[-4 -1  2]\n",
      " [-8 -2  4]\n",
      " [ 8  3  1]]\n"
     ]
    },
    {
     "data": {
      "text/plain": [
       "0.0"
      ]
     },
     "execution_count": 28,
     "metadata": {},
     "output_type": "execute_result"
    }
   ],
   "source": [
    "A = np.matrix('-4 -1 2; 10 4 -1; 8 3 1')\n",
    "print(A)\n",
    "k = 2\n",
    "A[1, :] = k * A[0, :]\n",
    "print(A)\n",
    "round(np.linalg.det(A), 3)"
   ]
  },
  {
   "cell_type": "markdown",
   "metadata": {
    "collapsed": false,
    "pycharm": {
     "name": "#%% md\n"
    }
   },
   "source": [
    "# Обратная матрица"
   ]
  },
  {
   "cell_type": "code",
   "execution_count": 29,
   "metadata": {
    "collapsed": false,
    "pycharm": {
     "name": "#%%\n"
    }
   },
   "outputs": [
    {
     "name": "stdout",
     "output_type": "stream",
     "text": [
      "[[ 1. -3.]\n",
      " [ 2.  5.]]\n",
      "[[ 1. -3.]\n",
      " [ 2.  5.]]\n"
     ]
    }
   ],
   "source": [
    "A = np.matrix('1. -3.; 2. 5.')\n",
    "A_inv = np.linalg.inv(A)\n",
    "A_inv_inv = np.linalg.inv(A_inv)\n",
    "print(A)\n",
    "print(A_inv_inv)"
   ]
  },
  {
   "cell_type": "markdown",
   "metadata": {
    "collapsed": false,
    "pycharm": {
     "name": "#%% md\n"
    }
   },
   "source": [
    "Свойство 2. Обратная матрица транспонированной матрицы равна транспонированной матрице от обратной матрицы:"
   ]
  },
  {
   "cell_type": "code",
   "execution_count": 30,
   "metadata": {
    "collapsed": false,
    "pycharm": {
     "name": "#%%\n"
    }
   },
   "outputs": [
    {
     "name": "stdout",
     "output_type": "stream",
     "text": [
      "[[ 0.45454545 -0.18181818]\n",
      " [ 0.27272727  0.09090909]]\n",
      "[[ 0.45454545 -0.18181818]\n",
      " [ 0.27272727  0.09090909]]\n"
     ]
    }
   ],
   "source": [
    "A = np.matrix('1. -3.; 2. 5.')\n",
    "L = np.linalg.inv(A.T)\n",
    "R = (np.linalg.inv(A)).T\n",
    "print(L)\n",
    "print(R)"
   ]
  },
  {
   "cell_type": "markdown",
   "metadata": {
    "collapsed": false,
    "pycharm": {
     "name": "#%% md\n"
    }
   },
   "source": [
    "Свойство 3. Обратная матрица произведения матриц равна произведению обратных матриц:"
   ]
  },
  {
   "cell_type": "code",
   "execution_count": 31,
   "metadata": {
    "collapsed": false,
    "pycharm": {
     "name": "#%%\n"
    }
   },
   "outputs": [
    {
     "name": "stdout",
     "output_type": "stream",
     "text": [
      "[[ 0.09454545  0.03272727]\n",
      " [-0.03454545  0.00727273]]\n",
      "[[ 0.09454545  0.03272727]\n",
      " [-0.03454545  0.00727273]]\n"
     ]
    },
    {
     "ename": "",
     "evalue": "",
     "output_type": "error",
     "traceback": [
      "\u001b[1;31mThe Kernel crashed while executing code in the the current cell or a previous cell. Please review the code in the cell(s) to identify a possible cause of the failure. Click <a href='https://aka.ms/vscodeJupyterKernelCrash'>here</a> for more info. View Jupyter <a href='command:jupyter.viewOutput'>log</a> for further details."
     ]
    }
   ],
   "source": [
    "A = np.matrix('1. -3.; 2. 5.')\n",
    "B = np.matrix('7. 6.; 1. 8.')\n",
    "L = np.linalg.inv(A.dot(B))\n",
    "R = np.linalg.inv(B).dot(np.linalg.inv(A))\n",
    "print(L)\n",
    "print(R)"
   ]
  }
 ],
 "metadata": {
  "kernelspec": {
   "display_name": "Python 3 (ipykernel)",
   "language": "python",
   "name": "python3"
  }
 },
 "nbformat": 4,
 "nbformat_minor": 0
}
